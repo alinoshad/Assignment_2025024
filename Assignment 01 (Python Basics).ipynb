{
 "cells": [
  {
   "cell_type": "markdown",
   "metadata": {},
   "source": [
    "# Part -1 Python Basics (Variables)"
   ]
  },
  {
   "cell_type": "markdown",
   "metadata": {},
   "source": [
    "1. Print Your Name with your Father name and Date of birth using suitable escape sequence charactor"
   ]
  },
  {
   "cell_type": "code",
   "execution_count": 3,
   "metadata": {},
   "outputs": [
    {
     "name": "stdout",
     "output_type": "stream",
     "text": [
      "My name is : Noshad Ali   My Father name is: Irshad Ali  My DOB is:01-01-1989\n"
     ]
    }
   ],
   "source": [
    "Name='Noshad Ali'\n",
    "DOB='01-01-1989'\n",
    "Father_name='Irshad Ali'\n",
    "print(f'My name is : {Name}   My Father name is: {Father_name}  My DOB is:{DOB}')"
   ]
  },
  {
   "cell_type": "markdown",
   "metadata": {},
   "source": [
    "2. Write your small bio using variables and print it using print function"
   ]
  },
  {
   "cell_type": "code",
   "execution_count": 34,
   "metadata": {},
   "outputs": [
    {
     "name": "stdout",
     "output_type": "stream",
     "text": [
      " My BIO Is: \n",
      " Name: Noshad Ali \n",
      " My Father name is: Irshad Ali \n",
      " My Age is: 34 yrs \n",
      " Data of Birth is: 01-01-1989 \n",
      " Address: Phase 2, Gulshan-e-Hadeed Karachi Sindh Pakitan \n",
      " Education is: BS computer Science \n",
      " Employed in: ACS as as SQL Developer \n"
     ]
    }
   ],
   "source": [
    "Name='Noshad Ali'\n",
    "Father_name='Irshad Ali'\n",
    "Age='34 yrs'\n",
    "DOB='01-01-1989'\n",
    "Address='Phase 2, Gulshan-e-Hadeed Karachi Sindh Pakitan'\n",
    "Literacy='BS computer Science'\n",
    "Employer='ACS'\n",
    "JobDesc='SQL Developer'\n",
    "print(f' My BIO Is: \\n Name: {Name} \\n My Father name is: {Father_name} \\n My Age is: {Age} \\n Data of Birth is: {DOB} \\n Address: {Address} \\n Education is: {Literacy} \\n Employed in: {Employer} as as {JobDesc} ')"
   ]
  },
  {
   "cell_type": "markdown",
   "metadata": {},
   "source": [
    "3. Write a program in which use all the operators we can use in Python"
   ]
  },
  {
   "cell_type": "code",
   "execution_count": null,
   "metadata": {},
   "outputs": [],
   "source": [
    "#--------Arthmatics operators----------------------------\n",
    "num1 = 22\n",
    "num2 = 16\n",
    "print(\"Arithmetic Operators:\")\n",
    "print(\"Addition:\", num1 + num2)\n",
    "print(\"Subtraction:\", num1 - num2)\n",
    "print(\"Multiplication:\", num1 * num2)\n",
    "print(\"Division:\", num1 / num2)\n",
    "print(\"Floor Division:\", num1 // num2)\n",
    "print(\"Modulus:\", num1 % num2)\n",
    "print(\"Exponentiation:\", num1 ** num2)\n",
    "#----------------comparison---------------------------\n",
    "print(\"\\nComparison Operators:\")\n",
    "print(\"Equal:\", num1 == num2)\n",
    "print(\"Not Equal:\", num1 != num2)\n",
    "print(\"Greater Than:\", num1 > num2)\n",
    "print(\"Less Than:\", num1 < num2)\n",
    "print(\"Greater Than or Equal:\", num1 >= num2)\n",
    "print(\"Less Than or Equal:\", num1 <= num2)\n",
    "#-------logicl--------------------\n",
    "a = True\n",
    "b = False\n",
    "print(\"\\nLogical Operators:\")\n",
    "print(\"AND:\", a and b)\n",
    "print(\"OR:\", a or b)\n",
    "print(\"NOT:\", not a )\n",
    "#-----Assignment operators\n",
    "a=7\n",
    "b=8\n",
    "c = a\n",
    "print(\"Initial c:\", c)\n",
    "c += b\n",
    "print(\"c += b:\", c)\n",
    "c -= b\n",
    "print(\"c -= b:\", c)\n",
    "c *= b\n",
    "print(\"c *= b:\", c)\n",
    "c /= b\n",
    "print(\"c /= b:\", c)"
   ]
  },
  {
   "cell_type": "markdown",
   "metadata": {},
   "source": [
    "4. Completes the following steps of small task:\n",
    "    - Mention Marks of English , Islamiat and Maths out of 100 in 3 different variables\n",
    "    - Mention Variable of Total Marks and assign 300 to it\n",
    "    - Calculate Percentage"
   ]
  },
  {
   "cell_type": "code",
   "execution_count": 35,
   "metadata": {},
   "outputs": [
    {
     "name": "stdout",
     "output_type": "stream",
     "text": [
      "Percentage is: 79.0\n"
     ]
    }
   ],
   "source": [
    "English_marks=75\n",
    "Islamiyat_marks=82\n",
    "Math_marks=80\n",
    "Total_marks=300\n",
    "percent=((English_marks+Islamiyat_marks+Math_marks)/Total_marks)*100\n",
    "print(f'Percentage is: {percent}')"
   ]
  },
  {
   "cell_type": "markdown",
   "metadata": {},
   "source": [
    "# Part -2 Python Basics (Conditional Statements)"
   ]
  },
  {
   "cell_type": "markdown",
   "metadata": {},
   "source": [
    "1) A company decided to give bonus of 5% to employee if his/her year of service is more than 5 years.\n",
    "Ask user for their salary and year of service and print the net bonus amount."
   ]
  },
  {
   "cell_type": "code",
   "execution_count": 42,
   "metadata": {},
   "outputs": [
    {
     "name": "stdin",
     "output_type": "stream",
     "text": [
      "Enter your salary: 2000\n",
      "Enter Employee salary: 5\n"
     ]
    },
    {
     "name": "stdout",
     "output_type": "stream",
     "text": [
      "Not eligible for bonus\n"
     ]
    }
   ],
   "source": [
    "\n",
    "salary=int(input('Enter your salary:'))\n",
    "expe=int(input('Enter experience:'))\n",
    "if expe>5:\n",
    "    print('Net bonus is:', salary*(5/100))\n",
    "else:\n",
    "    print('Not eligible for bonus')\n",
    "    \n",
    "\n",
    "\n"
   ]
  },
  {
   "cell_type": "markdown",
   "metadata": {},
   "source": [
    "\n",
    "2) Write a program to check whether a person is eligible for voting or not. (accept age from user) if age is greater than 17 eligible otherwise not eligible"
   ]
  },
  {
   "cell_type": "code",
   "execution_count": 44,
   "metadata": {},
   "outputs": [
    {
     "name": "stdin",
     "output_type": "stream",
     "text": [
      "What is your Age: 18\n"
     ]
    },
    {
     "name": "stdout",
     "output_type": "stream",
     "text": [
      "You are Eligible for voting because your age is: 18\n"
     ]
    }
   ],
   "source": [
    "\n",
    "age=int(input('What is your Age:'))\n",
    "if age>17:\n",
    "    print(f'You are Eligible for voting because your age is: {age}')\n",
    "else:\n",
    "   print(f'You are not Eligible for voting because your age is less tan 17 years')"
   ]
  },
  {
   "cell_type": "markdown",
   "metadata": {},
   "source": [
    "\n",
    "3) Write a program to check whether a number entered by user is even or odd."
   ]
  },
  {
   "cell_type": "code",
   "execution_count": 46,
   "metadata": {},
   "outputs": [
    {
     "name": "stdin",
     "output_type": "stream",
     "text": [
      "Enter number 3\n"
     ]
    },
    {
     "name": "stdout",
     "output_type": "stream",
     "text": [
      "3 is not a even number\n"
     ]
    }
   ],
   "source": [
    "num=int(input('Enter number'))\n",
    "if num%2==0:\n",
    "    print(f'{num} is even number')\n",
    "else:\n",
    "    print(f'{num} is not a even number')"
   ]
  },
  {
   "cell_type": "markdown",
   "metadata": {},
   "source": [
    "4) Write a program to check whether a number is divisible by 7 or not.\n",
    "Show Answer"
   ]
  },
  {
   "cell_type": "code",
   "execution_count": 48,
   "metadata": {},
   "outputs": [
    {
     "name": "stdin",
     "output_type": "stream",
     "text": [
      "Enter number 13\n"
     ]
    },
    {
     "name": "stdout",
     "output_type": "stream",
     "text": [
      "13 is not divisible by 7\n"
     ]
    }
   ],
   "source": [
    "num=int(input('Enter number'))\n",
    "if num%7==0:\n",
    "    print(f'{num} is divisible by 7')\n",
    "else:\n",
    "    print(f'{num} is not divisible by 7')"
   ]
  },
  {
   "cell_type": "markdown",
   "metadata": {},
   "source": [
    "5) Write a program to display \n",
    "\"Hello\" if a number entered by user is a multiple of five , otherwise print \"Bye\"."
   ]
  },
  {
   "cell_type": "code",
   "execution_count": 50,
   "metadata": {},
   "outputs": [
    {
     "name": "stdin",
     "output_type": "stream",
     "text": [
      "Enter number 7\n"
     ]
    },
    {
     "name": "stdout",
     "output_type": "stream",
     "text": [
      "By\n"
     ]
    }
   ],
   "source": [
    "num=int(input('Enter number'))\n",
    "if num%5==0:\n",
    "    print('Hello')\n",
    "else:\n",
    "    print('By')"
   ]
  },
  {
   "cell_type": "markdown",
   "metadata": {},
   "source": [
    "7) Write a program to display the last digit of a number.\n"
   ]
  },
  {
   "cell_type": "code",
   "execution_count": 52,
   "metadata": {},
   "outputs": [
    {
     "name": "stdin",
     "output_type": "stream",
     "text": [
      "Enter number 45124845\n"
     ]
    },
    {
     "name": "stdout",
     "output_type": "stream",
     "text": [
      "Last digit is 5\n"
     ]
    }
   ],
   "source": [
    "num=int(input('Enter number'))\n",
    "reminder=num%10\n",
    "print(f'Last digit is {reminder}')\n"
   ]
  },
  {
   "cell_type": "markdown",
   "metadata": {},
   "source": [
    "9) Take values of length and breadth of a rectangle from user and print if it is square or rectangle."
   ]
  },
  {
   "cell_type": "code",
   "execution_count": 54,
   "metadata": {},
   "outputs": [
    {
     "name": "stdin",
     "output_type": "stream",
     "text": [
      "Enter lenght 4\n",
      "Enter breadth 8\n"
     ]
    },
    {
     "name": "stdout",
     "output_type": "stream",
     "text": [
      "Its Rectangle\n"
     ]
    }
   ],
   "source": [
    "len=int(input('Enter lenght'))\n",
    "br=int(input('Enter breadth'))\n",
    "if len==br:\n",
    "    print('Its Square because both sides are equal')\n",
    "else:\n",
    "    print('Its Rectangle')\n"
   ]
  },
  {
   "cell_type": "markdown",
   "metadata": {},
   "source": [
    "10) Take two int values from user and print greatest among them."
   ]
  },
  {
   "cell_type": "code",
   "execution_count": 57,
   "metadata": {},
   "outputs": [
    {
     "name": "stdin",
     "output_type": "stream",
     "text": [
      "Enter first number 7\n",
      "Enter second number 8\n"
     ]
    },
    {
     "name": "stdout",
     "output_type": "stream",
     "text": [
      "8 is greater\n"
     ]
    }
   ],
   "source": [
    "num1=int(input('Enter first number'))\n",
    "num2=int(input('Enter second number'))\n",
    "number_greater=max(num1,num2)\n",
    "if num1!=num2:\n",
    "    print(f'{number_greater} is greater')\n",
    "else:\n",
    "    print('both are equals')\n"
   ]
  },
  {
   "cell_type": "markdown",
   "metadata": {},
   "source": [
    "11) A shop will give discount of 10% if the cost of purchased quantity is more than 1000.\n",
    "Ask user for quantity\n",
    "Suppose, one unit will cost 100.\n",
    "Judge and print total cost for user."
   ]
  },
  {
   "cell_type": "code",
   "execution_count": 59,
   "metadata": {},
   "outputs": [
    {
     "name": "stdin",
     "output_type": "stream",
     "text": [
      "Enter quantity 11\n"
     ]
    },
    {
     "name": "stdout",
     "output_type": "stream",
     "text": [
      "Shop provides you 10% discount which is 110.0 because your shoping is worth of 1100\n"
     ]
    }
   ],
   "source": [
    "qnty=int(input('Enter quantity'))\n",
    "per_unit_price=100\n",
    "total_cost=qnty*per_unit_price\n",
    "if total_cost>1000:\n",
    "    discount=total_cost*.10\n",
    "    print(f'Shop provides you 10% discount which is {discount} because your shoping is worth of {total_cost}')\n",
    "else:\n",
    "    print('You are not eligible for discount')"
   ]
  },
  {
   "cell_type": "markdown",
   "metadata": {},
   "source": [
    "12) A school has following rules for grading system:\n",
    "\n",
    "a. Below 25 - F\n",
    "\n",
    "b. 25 to 45 - E\n",
    "\n",
    "c. 45 to 50 - D\n",
    "\n",
    "d. 50 to 60 - C\n",
    "\n",
    "e. 60 to 80 - B\n",
    "\n",
    "f. Above 80 - A\n",
    "\n",
    "Ask user to enter marks and print the corresponding grade."
   ]
  },
  {
   "cell_type": "code",
   "execution_count": 62,
   "metadata": {},
   "outputs": [
    {
     "name": "stdin",
     "output_type": "stream",
     "text": [
      "Enter obtained marks 70\n",
      "Enter total marks 90\n"
     ]
    },
    {
     "name": "stdout",
     "output_type": "stream",
     "text": [
      "Your grade is B---- 60 to 80 - B\n"
     ]
    }
   ],
   "source": [
    "obtained_marks=int(input('Enter obtained marks'))\n",
    "total_marks=int(input('Enter total marks'))\n",
    "\n",
    "pecentage=float((obtained_marks/total_marks)*100)\n",
    "if pecentage<25:\n",
    "    print('Fail----Below 25 - F  ')\n",
    "if pecentage>=25 and pecentage<45:\n",
    "    print('Your grade is E----25 to 45 - E ')\n",
    "if pecentage>=45 and pecentage<50:\n",
    "    print('Your grade is D----45 to 50 - D ')\n",
    "\n",
    "if pecentage>=50 and pecentage<60:\n",
    "    print('Your grade is C---- 50 to 60 - C ')\n",
    "if pecentage>=60 and pecentage<=80:\n",
    "    print('Your grade is B---- 60 to 80 - B')\n",
    "          \n",
    "if pecentage>80:\n",
    "    print('Your grade is A---- Above 80 - A')\n",
    "\n",
    "\n"
   ]
  },
  {
   "cell_type": "markdown",
   "metadata": {},
   "source": [
    "14)A student will not be allowed to sit in exam if his/her attendence is less than 75%.\n",
    "\n",
    "Take following input from user\n",
    "\n",
    "- Number of classes held\n",
    "\n",
    "- Number of classes attended.\n",
    "\n",
    "And print\n",
    "\n",
    "- percentage of class attended\n",
    "\n",
    "- Is student is allowed to sit in exam or not.\n"
   ]
  },
  {
   "cell_type": "code",
   "execution_count": 63,
   "metadata": {},
   "outputs": [
    {
     "name": "stdin",
     "output_type": "stream",
     "text": [
      "Enter total number of classes Held 40\n",
      "Enter  number of classes Attended 30\n"
     ]
    },
    {
     "name": "stdout",
     "output_type": "stream",
     "text": [
      "Your attendence is 75.0 so , you are  eligible for exam\n"
     ]
    }
   ],
   "source": [
    "held_classes=int(input('Enter total number of classes Held'))\n",
    "attended_classes=int(input('Enter  number of classes Attended'))\n",
    "\n",
    "attendance=float((attended_classes/held_classes)*100)\n",
    "if attendance<70:\n",
    "    print(f'Your attendence is {attendance} so , you are not eligible for exam')\n",
    "else:\n",
    "    print(f'Your attendence is {attendance} so , you are  eligible for exam')"
   ]
  },
  {
   "cell_type": "markdown",
   "metadata": {},
   "source": [
    "15) Modify the above question to allow student to sit if he/she has medical cause. Ask user if he/she has medical cause or not ( 'Y' or 'N' ) and print accordingly."
   ]
  },
  {
   "cell_type": "code",
   "execution_count": 67,
   "metadata": {},
   "outputs": [
    {
     "name": "stdin",
     "output_type": "stream",
     "text": [
      "Enter total number of classes Held 40\n",
      "Enter  number of classes Attended 30\n",
      "Any medical cause N\n"
     ]
    },
    {
     "name": "stdout",
     "output_type": "stream",
     "text": [
      "Your attendence is 75.0 so , you are  eligible for exam\n"
     ]
    }
   ],
   "source": [
    "held_classes=int(input('Enter total number of classes Held'))\n",
    "attended_classes=int(input('Enter  number of classes Attended'))\n",
    "anymedicalcause=input('Any medical cause')\n",
    "\n",
    "attendance=float((attended_classes/held_classes)*100)\n",
    "if attendance<70 and anymedicalcause=='Y':\n",
    "    print(f'Your attendence is {attendance} so , BUT, you were ill so you are eligible for exam')\n",
    "elif attendance<70 and anymedicalcause=='N':\n",
    "    print(f'Your attendence is {attendance} so , so you are not eligible for exam')\n",
    "    \n",
    "elif attendance>70 and anymedicalcause=='N':\n",
    "    print(f'Your attendence is {attendance} so , you are  eligible for exam')"
   ]
  },
  {
   "cell_type": "markdown",
   "metadata": {},
   "source": [
    "16) Write a program to check if a year is leap year or not.\n",
    "\n",
    "If a year is divisible by 4 then it is leap year but if the year is century year like 2000, 1900, 2100 then it must be divisible by 400."
   ]
  },
  {
   "cell_type": "code",
   "execution_count": 69,
   "metadata": {},
   "outputs": [
    {
     "name": "stdin",
     "output_type": "stream",
     "text": [
      "Enter a year 2000\n"
     ]
    },
    {
     "name": "stdout",
     "output_type": "stream",
     "text": [
      "2000 is a leap year.\n"
     ]
    }
   ],
   "source": [
    "year=int(input('Enter a year'))\n",
    "if year % 4==0:\n",
    "    if (year % 100 == 0):\n",
    "        if (year % 400 == 0):\n",
    "            print(f\"{year} is a leap year.\")\n",
    "        else:\n",
    "            print(f\"{year} is not a leap year.\")\n",
    "    else:\n",
    "        print(f\"{year} is a leap year.\")\n",
    "else:\n",
    "    print(f'{year} is not a Leap year')"
   ]
  },
  {
   "cell_type": "markdown",
   "metadata": {},
   "source": [
    "17) Ask user to enter age, gender ( M or F ), marital status ( Y or N ) and then using following rules print their place of service.\n",
    "\n",
    "if employee is female, then she will work only in urban areas.\n",
    "\n",
    "if employee is a male and age is in between 20 to 40 then he may work in anywhere\n",
    "\n",
    "if employee is male and age is in between 40 t0 60 then he will work in urban areas only.\n",
    "\n",
    "And any other input of age should print \"ERROR\""
   ]
  },
  {
   "cell_type": "code",
   "execution_count": 72,
   "metadata": {},
   "outputs": [
    {
     "name": "stdin",
     "output_type": "stream",
     "text": [
      "Enter age 20\n",
      "If ur Male write M  if female write F m\n",
      "Are you married n\n"
     ]
    },
    {
     "name": "stdout",
     "output_type": "stream",
     "text": [
      "Error\n"
     ]
    }
   ],
   "source": [
    "age=int(input('Enter age'))\n",
    "gender=input('If ur Male write M  if female write F').upper()\n",
    "marital_status=input('Are you married').upper()\n",
    "if gender=='F':\n",
    "    print('she will work only in urban areas')\n",
    "elif gender=='M' and age>=20 and age<=40:\n",
    "    print('he may work in anywhere')\n",
    "elif gender=='M' and age>=40 and age<=60:\n",
    "    print('he will work in urban areas only.')\n",
    "else:\n",
    "    print('Error')\n",
    "\n",
    "\n",
    "\n"
   ]
  },
  {
   "cell_type": "markdown",
   "metadata": {},
   "source": [
    "6) Write a program to calculate the electricity bill (accept number of unit from user) according to the following criteria :\n",
    "     Unit                                                     Price  \n",
    "uptp 100 units                                             no charge\n",
    "Next 200 units                                              Rs 5 per unit\n",
    "After 200 units                                             Rs 10 per unit\n",
    "(For example if input unit is 350 than total bill amount is Rs.3500\n",
    "(For example if input unit is 97 than total bill amount is Rs.0\n",
    "(For example if input unit is 150 than total bill amount is Rs.750"
   ]
  },
  {
   "cell_type": "code",
   "execution_count": 75,
   "metadata": {},
   "outputs": [
    {
     "name": "stdin",
     "output_type": "stream",
     "text": [
      "Enter units 200\n"
     ]
    },
    {
     "name": "stdout",
     "output_type": "stream",
     "text": [
      "UNITS                                     Price\n",
      "200  units                            1000\n"
     ]
    }
   ],
   "source": [
    "units=int(input('Enter units'))\n",
    "print(f'UNITS                                     Price')\n",
    "if units<100:\n",
    "    print(f'{units}  units                          no charge     ')\n",
    "elif units>100 and units<=200:\n",
    "    print(f'{units}  units                           ',units*5)\n",
    "elif units>200:\n",
    "    print(f'{units}  units                         ',units*10)\n",
    "      \n",
    "     "
   ]
  },
  {
   "cell_type": "markdown",
   "metadata": {},
   "source": [
    "13) Take input of age of 3 people by user and determine oldest and youngest among them."
   ]
  },
  {
   "cell_type": "code",
   "execution_count": 78,
   "metadata": {},
   "outputs": [
    {
     "name": "stdin",
     "output_type": "stream",
     "text": [
      "Enter pesron 1 age 12\n",
      "Enter pesron 2 age 15\n",
      "Enter pesron 3 age 30\n"
     ]
    },
    {
     "name": "stdout",
     "output_type": "stream",
     "text": [
      " Pesrson with age 30 is oldest and Pesrson with age 12 is youngest\n"
     ]
    }
   ],
   "source": [
    "person1=int(input('Enter pesron 1 age'))\n",
    "person2=int(input('Enter pesron 2 age'))\n",
    "person3=int(input('Enter pesron 3 age'))\n",
    "oldest=max(person1,person2,person3)\n",
    "youngest=min(person1,person2,person3)\n",
    "print(f' Pesrson with age {oldest} is oldest and Pesrson with age {youngest} is youngest')\n",
    "\n"
   ]
  },
  {
   "cell_type": "code",
   "execution_count": null,
   "metadata": {},
   "outputs": [],
   "source": []
  }
 ],
 "metadata": {
  "kernelspec": {
   "display_name": "Python 3 (ipykernel)",
   "language": "python",
   "name": "python3"
  },
  "language_info": {
   "codemirror_mode": {
    "name": "ipython",
    "version": 3
   },
   "file_extension": ".py",
   "mimetype": "text/x-python",
   "name": "python",
   "nbconvert_exporter": "python",
   "pygments_lexer": "ipython3",
   "version": "3.12.5"
  }
 },
 "nbformat": 4,
 "nbformat_minor": 4
}
