{
 "cells": [
  {
   "cell_type": "markdown",
   "id": "ec63a2a3-4d4f-4cf2-ae53-40d4fa34332b",
   "metadata": {},
   "source": [
    "1. Write a program that accepts a string from user. Your program should count and display number of\r\n",
    "vowels in that string."
   ]
  },
  {
   "cell_type": "code",
   "execution_count": 2,
   "id": "9928b2af-0458-4dac-aaa0-e92bba67156e",
   "metadata": {},
   "outputs": [
    {
     "name": "stdin",
     "output_type": "stream",
     "text": [
      "What i your wish I AM NEW TO KARACHI\n"
     ]
    },
    {
     "name": "stdout",
     "output_type": "stream",
     "text": [
      "I AM NEW TO KARACHI\n",
      "7\n"
     ]
    }
   ],
   "source": [
    "txt=input('What i your wish')\n",
    "print(txt)\n",
    "vowels='aeiouAEIOU'\n",
    "count=0\n",
    "for m in txt:\n",
    "    if m in vowels:\n",
    "        count+=1\n",
    "print(count)\n",
    "        "
   ]
  },
  {
   "cell_type": "markdown",
   "id": "09c6c8c7-a2bd-4ba4-83cf-544896b37f85",
   "metadata": {},
   "source": [
    "2. Write a program that reads a string from keyboard and display:\n",
    "   - The number of uppercase letters in the string\n",
    "   -  The number of lowercase letters in the strin\n",
    "   - * The number of digits in the stri\n",
    "   - \n",
    "* The number of whitespace characters in the str\n",
    "   - ing"
   ]
  },
  {
   "cell_type": "code",
   "execution_count": 7,
   "id": "47d3afe0-ac66-4747-91bf-d597a8532e27",
   "metadata": {},
   "outputs": [
    {
     "name": "stdin",
     "output_type": "stream",
     "text": [
      "Write any thing Juma Juma 8 Din\n"
     ]
    },
    {
     "name": "stdout",
     "output_type": "stream",
     "text": [
      "Number of upper case letters is: 3 and lower case are 8, Digits in string are 1 and spaces are 3\n"
     ]
    }
   ],
   "source": [
    "# The number of uppercase letters in the string\n",
    "var=input('Write any thing')\n",
    "upper_count=0\n",
    "lower_count=0\n",
    "number_count=0\n",
    "space_count=0\n",
    "\n",
    "for m in var:\n",
    "    if m.isupper():\n",
    "        upper_count+=1\n",
    "    elif m.islower():\n",
    "        lower_count+=1\n",
    "    elif m.isdigit():\n",
    "        number_count+=1\n",
    "    elif m.isspace():\n",
    "        space_count+=1\n",
    "       \n",
    "print(f'Number of upper case letters is: {upper_count} and lower case are {lower_count}, Digits in string are {number_count} and spaces are {space_count}')\n",
    "# The number of lowercase letters in the string\n",
    "\n",
    "        "
   ]
  },
  {
   "cell_type": "markdown",
   "id": "d68665df-0c1f-4f36-a245-2c4af433f22f",
   "metadata": {},
   "source": [
    "3. Write a Python program that accepts a string from user. Your program should create and display a\r\n",
    "new string where the first and last characters have been exchanged."
   ]
  },
  {
   "cell_type": "code",
   "execution_count": 10,
   "id": "4bed0b00-717f-4764-be0d-838899910415",
   "metadata": {},
   "outputs": [
    {
     "name": "stdin",
     "output_type": "stream",
     "text": [
      "Hello Spell\n"
     ]
    },
    {
     "name": "stdout",
     "output_type": "stream",
     "text": [
      "lpelS\n"
     ]
    }
   ],
   "source": [
    "var=input('Enter Any word')\n",
    "print(var[-1]+var[1:-1]+var[0])"
   ]
  },
  {
   "cell_type": "markdown",
   "id": "f2f7e28e-2a51-4c47-a77f-66727d9812d1",
   "metadata": {},
   "source": [
    "4. Write a Python program that accepts a string from user. Your program should create a new string in\r\n",
    "reverse of first string and display it."
   ]
  },
  {
   "cell_type": "code",
   "execution_count": 15,
   "id": "0d9b46ed-0aba-4633-b193-2e3a89facc8d",
   "metadata": {},
   "outputs": [
    {
     "name": "stdin",
     "output_type": "stream",
     "text": [
      "Enter Any word national\n"
     ]
    },
    {
     "name": "stdout",
     "output_type": "stream",
     "text": [
      "lanoitan\n"
     ]
    }
   ],
   "source": [
    "var=input('Enter Any word')\n",
    "print(var[::-1])"
   ]
  },
  {
   "cell_type": "markdown",
   "id": "c7237005-3126-4b80-b982-0038d7739ac1",
   "metadata": {},
   "source": [
    "5. Write a Python program that accepts a string from user. Your program should create a new string by\r\n",
    "shifting one position to left."
   ]
  },
  {
   "cell_type": "code",
   "execution_count": 2,
   "id": "a34aae1e-b210-45c7-9f80-71ebc9f60a08",
   "metadata": {},
   "outputs": [
    {
     "name": "stdin",
     "output_type": "stream",
     "text": [
      "Enter string Hyder\n"
     ]
    },
    {
     "name": "stdout",
     "output_type": "stream",
     "text": [
      "yderH\n"
     ]
    }
   ],
   "source": [
    "num=input('Enter string')\n",
    "print(num[1:]+num[0])"
   ]
  },
  {
   "cell_type": "markdown",
   "id": "e8c75d8b-ba25-4f1b-ab0d-610641dc07c2",
   "metadata": {},
   "source": [
    "6. Write a program that asks the user to input his name and print its initials. Assuming that the user\r\n",
    "always types first name, middle name and last name and does not include any unnecessary spaces."
   ]
  },
  {
   "cell_type": "code",
   "execution_count": 10,
   "id": "91260271-9435-40b7-9bdf-b073629d2cab",
   "metadata": {},
   "outputs": [
    {
     "name": "stdin",
     "output_type": "stream",
     "text": [
      "enter full nme nosad ali samtio\n"
     ]
    },
    {
     "name": "stdout",
     "output_type": "stream",
     "text": [
      "Yor initials are N. A. S.\n"
     ]
    }
   ],
   "source": [
    "name=input('enter full nme')\n",
    "initial=\"\"\n",
    "i=0\n",
    "initial+=name[i].upper()+'. '\n",
    "while i<len(name):\n",
    "    if name[i]==' ':\n",
    "        initial+=name[i+1].upper()+'. '\n",
    "    i+=1\n",
    "print('Yor initials are',initial.strip())"
   ]
  },
  {
   "cell_type": "markdown",
   "id": "242b1f1d-a1d6-4dd8-ac39-df2d6b40e649",
   "metadata": {},
   "source": [
    "7 A palindrome is a string that reads the same backward as forward. For example, the words dad,\n",
    "madam and radar are all palindromes. Write a programs that determines whether the string is a\n",
    "palindrome.\n",
    "Note: do not use reverse() method"
   ]
  },
  {
   "cell_type": "code",
   "execution_count": 12,
   "id": "966a4106-f5a8-4427-ae04-6a9cf267c195",
   "metadata": {},
   "outputs": [
    {
     "name": "stdin",
     "output_type": "stream",
     "text": [
      "Enter a word to check if it's a palindrome:  rozor\n"
     ]
    },
    {
     "name": "stdout",
     "output_type": "stream",
     "text": [
      "Yes, it's a palindrome!\n"
     ]
    }
   ],
   "source": [
    "text = input(\"Enter a word to check if it's a palindrome: \")\n",
    "\n",
    "text = text.lower()\n",
    "start = 0\n",
    "end = len(text) - 1\n",
    "is_palindrome = True\n",
    "while start < end:\n",
    "    if text[start] != text[end]:\n",
    "        is_palindrome = False\n",
    "        break\n",
    "    start += 1\n",
    "    end -= 1\n",
    "if is_palindrome:\n",
    "    print(\"Yes, it's a palindrome!\")\n",
    "else:\n",
    "    print(\"No, it's not a palindrome.\")"
   ]
  },
  {
   "cell_type": "markdown",
   "id": "ad078522-6cc9-4ee6-b98f-3f365149c006",
   "metadata": {},
   "source": [
    "8. Write a program that display following output:\n",
    "SHIFT\n",
    "HIFTS\n",
    "IFTSH\n",
    "FTSHI\n",
    "TSHIF\n",
    "SHIFT"
   ]
  },
  {
   "cell_type": "code",
   "execution_count": 13,
   "id": "452ebef7-a8c1-4c84-9bd8-50f3c4214fbd",
   "metadata": {},
   "outputs": [
    {
     "name": "stdin",
     "output_type": "stream",
     "text": [
      "ENTER WORD hazar\n"
     ]
    },
    {
     "name": "stdout",
     "output_type": "stream",
     "text": [
      "hazar azarh zarha arhaz rhaza\n"
     ]
    }
   ],
   "source": [
    "text=input('ENTER WORD')\n",
    "rotations = []\n",
    "for i in range(len(text)):\n",
    "    rotated = text[i:] + text[:i]\n",
    "    rotations.append(rotated)\n",
    "print(\" \".join(rotations))"
   ]
  },
  {
   "cell_type": "markdown",
   "id": "7678af6f-84c9-402d-a139-5534e4405ea7",
   "metadata": {},
   "source": [
    "9 Write a program in python that accepts a string to setup a passwords. Your entered password must\r\n",
    "meet the following requirements:\r\n",
    "The password must be at least eight characters long.\r\n",
    "It must contain at least one uppercase letter.\r\n",
    "It must contain at least one lowercase letter.\r\n",
    "It must contain at least one numeric digit.\r\n",
    "Your program should should perform this validation."
   ]
  },
  {
   "cell_type": "code",
   "execution_count": 18,
   "id": "486f0c64-a294-4dd1-80f9-7e56cc726f7f",
   "metadata": {},
   "outputs": [
    {
     "name": "stdin",
     "output_type": "stream",
     "text": [
      "Set your password:  simple@wer\n"
     ]
    },
    {
     "name": "stdout",
     "output_type": "stream",
     "text": [
      "Password must contain at least one uppercase letter.\n",
      "Password must contain at least one digit.\n"
     ]
    }
   ],
   "source": [
    "password = input(\"Set your password: \")\n",
    "has_upper = any(char.isupper() for char in password)\n",
    "has_lower = any(char.islower() for char in password)\n",
    "has_digit = any(char.isdigit() for char in password)\n",
    "\n",
    "if len(password) < 8:\n",
    "        print(\"Password must be at least 8 characters long.\")\n",
    "if not has_upper:\n",
    "        print(\"Password must contain at least one uppercase letter.\")\n",
    "if not has_lower:\n",
    "        print(\"Password must contain at least one lowercase letter.\")\n",
    "if not has_digit:\n",
    "        print(\"Password must contain at least one digit.\")\n",
    "else:\n",
    "    print('Good To GO')"
   ]
  },
  {
   "cell_type": "code",
   "execution_count": null,
   "id": "fad9ab34-34d2-49d7-b19a-fec851bdd791",
   "metadata": {},
   "outputs": [],
   "source": []
  }
 ],
 "metadata": {
  "kernelspec": {
   "display_name": "Python 3 (ipykernel)",
   "language": "python",
   "name": "python3"
  },
  "language_info": {
   "codemirror_mode": {
    "name": "ipython",
    "version": 3
   },
   "file_extension": ".py",
   "mimetype": "text/x-python",
   "name": "python",
   "nbconvert_exporter": "python",
   "pygments_lexer": "ipython3",
   "version": "3.12.5"
  }
 },
 "nbformat": 4,
 "nbformat_minor": 5
}
