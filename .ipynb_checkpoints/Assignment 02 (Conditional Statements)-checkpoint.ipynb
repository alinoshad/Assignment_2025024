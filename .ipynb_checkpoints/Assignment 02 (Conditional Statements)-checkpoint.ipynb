{
 "cells": [
  {
   "cell_type": "markdown",
   "metadata": {},
   "source": [
    "1) A company decided to give bonus of 5% to employee if his/her year of service is more than 5 years.\n",
    "Ask user for their salary and year of service and print the net bonus amount."
   ]
  },
  {
   "cell_type": "code",
   "execution_count": 6,
   "metadata": {},
   "outputs": [],
   "source": [
    "salary=int(input('Enter your salary:'))\n",
    "expe=int(input('Enter experience:'))\n",
    "if expe>5:\n",
    "    print('Net bonus is:', salary*(5/100))\n",
    "else:\n",
    "    print('Not eligible for bonus')"
   ]
  },
  {
   "cell_type": "markdown",
   "metadata": {},
   "source": [
    "\n",
    "2) Write a program to check whether a person is eligible for voting or not. (accept age from user) if age is greater than 17 eligible otherwise not eligible"
   ]
  },
  {
   "cell_type": "code",
   "execution_count": 7,
   "metadata": {},
   "outputs": [],
   "source": [
    "age=int(input('What is your Age:'))\n",
    "if age>17:\n",
    "    print(f'You are Eligible for voting because your age is: {age}')\n",
    "else:\n",
    "   print(f'You are not Eligible for voting because your age is less tan 17 years')"
   ]
  },
  {
   "cell_type": "markdown",
   "metadata": {},
   "source": [
    "\n",
    "3) Write a program to check whether a number entered by user is even or odd."
   ]
  },
  {
   "cell_type": "code",
   "execution_count": 8,
   "metadata": {},
   "outputs": [],
   "source": [
    "num=int(input('Enter number'))\n",
    "if num%2==0:\n",
    "    print(f'{num} is even number')\n",
    "else:\n",
    "    print(f'{num} is not a even number')"
   ]
  },
  {
   "cell_type": "markdown",
   "metadata": {},
   "source": [
    "4) Write a program to check whether a number is divisible by 7 or not.\n",
    "Show Answer"
   ]
  },
  {
   "cell_type": "code",
   "execution_count": 9,
   "metadata": {},
   "outputs": [],
   "source": [
    "num=int(input('Enter number'))\n",
    "if num%7==0:\n",
    "    print(f'{num} is divisible by 7')\n",
    "else:\n",
    "    print(f'{num} is not divisible by 7')"
   ]
  },
  {
   "cell_type": "markdown",
   "metadata": {},
   "source": [
    "5) Write a program to display \n",
    "\"Hello\" if a number entered by user is a multiple of five , otherwise print \"Bye\"."
   ]
  },
  {
   "cell_type": "code",
   "execution_count": 11,
   "metadata": {},
   "outputs": [],
   "source": [
    "num=int(input('Enter number'))\n",
    "if num%5==0:\n",
    "    print('Hello')\n",
    "else:\n",
    "    print('By')\n",
    "    "
   ]
  },
  {
   "cell_type": "markdown",
   "metadata": {},
   "source": [
    "7) Write a program to display the last digit of a number.\n"
   ]
  },
  {
   "cell_type": "code",
   "execution_count": 12,
   "metadata": {},
   "outputs": [],
   "source": [
    "num=int(input('Enter number'))\n",
    "reminder=num%10\n",
    "print(f'Last digit is {reminder}')"
   ]
  },
  {
   "cell_type": "markdown",
   "metadata": {},
   "source": [
    "9) Take values of length and breadth of a rectangle from user and print if it is square or rectangle."
   ]
  },
  {
   "cell_type": "code",
   "execution_count": 14,
   "metadata": {},
   "outputs": [],
   "source": [
    "len=int(input('Enter lenght'))\n",
    "br=int(input('Enter breadth'))\n",
    "if len==br:\n",
    "    print('Its Square because both sides are equal')\n",
    "else:\n",
    "    print('Its Rectangle')"
   ]
  },
  {
   "cell_type": "markdown",
   "metadata": {},
   "source": [
    "10) Take two int values from user and print greatest among them."
   ]
  },
  {
   "cell_type": "code",
   "execution_count": 15,
   "metadata": {},
   "outputs": [],
   "source": [
    "num1=int(input('Enter first number'))\n",
    "num2=int(input('Enter second number'))\n",
    "number_greater=max(num1,num2)\n",
    "if num1!=num2:\n",
    "    print(f'{number_greater} is greater')\n",
    "else:\n",
    "    print('both are equals')"
   ]
  },
  {
   "cell_type": "markdown",
   "metadata": {},
   "source": [
    "11) A shop will give discount of 10% if the cost of purchased quantity is more than 1000.\n",
    "Ask user for quantity\n",
    "Suppose, one unit will cost 100.\n",
    "Judge and print total cost for user."
   ]
  },
  {
   "cell_type": "code",
   "execution_count": 16,
   "metadata": {},
   "outputs": [],
   "source": [
    "qnty=int(input('Enter quantity'))\n",
    "per_unit_price=100\n",
    "total_cost=qnty*per_unit_price\n",
    "if total_cost>1000:\n",
    "    discount=total_cost*.10\n",
    "    print(f'Shop provides you 10% discount which is {discount} because your shoping is worth of {total_cost}')\n",
    "else:\n",
    "    print('You are not eligible for discount')"
   ]
  },
  {
   "cell_type": "markdown",
   "metadata": {},
   "source": [
    "12) A school has following rules for grading system:\n",
    "\n",
    "a. Below 25 - F\n",
    "\n",
    "b. 25 to 45 - E\n",
    "\n",
    "c. 45 to 50 - D\n",
    "\n",
    "d. 50 to 60 - C\n",
    "\n",
    "e. 60 to 80 - B\n",
    "\n",
    "f. Above 80 - A\n",
    "\n",
    "Ask user to enter marks and print the corresponding grade."
   ]
  },
  {
   "cell_type": "code",
   "execution_count": 2,
   "metadata": {},
   "outputs": [],
   "source": [
    "obtained_marks=int(input('Enter obtained marks'))\n",
    "total_marks=int(input('Enter total marks'))\n",
    "\n",
    "pecentage=float((obtained_marks/total_marks)*100)\n",
    "if pecentage<25:\n",
    "    print('Fail----Below 25 - F  ')\n",
    "if pecentage>=25 and pecentage<45:\n",
    "    print('Your grade is E----25 to 45 - E ')\n",
    "if pecentage>=45 and pecentage<50:\n",
    "    print('Your grade is D----45 to 50 - D ')\n",
    "\n",
    "if pecentage>=50 and pecentage<60:\n",
    "    print('Your grade is C---- 50 to 60 - C ')\n",
    "if pecentage>=60 and pecentage<=80:\n",
    "    print('Your grade is B---- 60 to 80 - B')\n",
    "          \n",
    "if pecentage>80:\n",
    "    print('Your grade is A---- Above 80 - A')\n"
   ]
  },
  {
   "cell_type": "markdown",
   "metadata": {},
   "source": [
    "14)A student will not be allowed to sit in exam if his/her attendence is less than 75%.\n",
    "\n",
    "Take following input from user\n",
    "\n",
    "Number of classes held\n",
    "\n",
    "Number of classes attended.\n",
    "\n",
    "And print\n",
    "\n",
    "percentage of class attended\n",
    "\n",
    "Is student is allowed to sit in exam or not.\n"
   ]
  },
  {
   "cell_type": "code",
   "execution_count": 19,
   "metadata": {},
   "outputs": [],
   "source": [
    "held_classes=int(input('Enter total number of classes Held'))\n",
    "attended_classes=int(input('Enter  number of classes Attended'))\n",
    "\n",
    "attendance=float((attended_classes/held_classes)*100)\n",
    "if attendance<70:\n",
    "    print(f'Your attendence is {attendance} so , you are not eligible for exam')\n",
    "else:\n",
    "    print(f'Your attendence is {attendance} so , you are  eligible for exam')"
   ]
  },
  {
   "cell_type": "markdown",
   "metadata": {},
   "source": [
    "15) Modify the above question to allow student to sit if he/she has medical cause. Ask user if he/she has medical cause or not ( 'Y' or 'N' ) and print accordingly."
   ]
  },
  {
   "cell_type": "code",
   "execution_count": 20,
   "metadata": {},
   "outputs": [],
   "source": [
    "held_classes=int(input('Enter total number of classes Held'))\n",
    "attended_classes=int(input('Enter  number of classes Attended'))\n",
    "anymedicalcause=input('Any medical cause')\n",
    "\n",
    "attendance=float((attended_classes/held_classes)*100)\n",
    "if attendance<70 and anymedicalcause=='Y':\n",
    "    print(f'Your attendence is {attendance} so , BUT, you were ill so you are eligible for exam')\n",
    "elif attendance<70 and anymedicalcause=='N':\n",
    "    print(f'Your attendence is {attendance} so , so you are not eligible for exam')\n",
    "    \n",
    "elif attendance>70 and anymedicalcause=='N':\n",
    "    print(f'Your attendence is {attendance} so , you are  eligible for exam')"
   ]
  },
  {
   "cell_type": "markdown",
   "metadata": {},
   "source": [
    "16) Write a program to check if a year is leap year or not.\n",
    "\n",
    "If a year is divisible by 4 then it is leap year but if the year is century year like 2000, 1900, 2100 then it must be divisible by 400."
   ]
  },
  {
   "cell_type": "code",
   "execution_count": 21,
   "metadata": {},
   "outputs": [],
   "source": [
    "year=int(input('Enter a year'))\n",
    "if year % 4==0:\n",
    "    if (year % 100 == 0):\n",
    "        if (year % 400 == 0):\n",
    "            print(f\"{year} is a leap year.\")\n",
    "        else:\n",
    "            print(f\"{year} is not a leap year.\")\n",
    "    else:\n",
    "        print(f\"{year} is a leap year.\")\n",
    "else:\n",
    "    print(f'{year} is not a Leap year')"
   ]
  },
  {
   "cell_type": "markdown",
   "metadata": {},
   "source": [
    "17) Ask user to enter age, gender ( M or F ), marital status ( Y or N ) and then using following rules print their place of service.\n",
    "\n",
    "if employee is female, then she will work only in urban areas.\n",
    "\n",
    "if employee is a male and age is in between 20 to 40 then he may work in anywhere\n",
    "\n",
    "if employee is male and age is in between 40 t0 60 then he will work in urban areas only.\n",
    "\n",
    "And any other input of age should print \"ERROR\""
   ]
  },
  {
   "cell_type": "code",
   "execution_count": 22,
   "metadata": {},
   "outputs": [],
   "source": [
    "age=int(input('Enter age'))\n",
    "gender=input('If ur Male write M  if female write F').upper()\n",
    "marital_status=input('Are you married').upper()\n",
    "if gender=='F':\n",
    "    print('she will work only in urban areas')\n",
    "elif gender=='M' and age>=20 and age<=40:\n",
    "    print('he may work in anywhere')\n",
    "elif gender=='M' and age>=40 and age<=60:\n",
    "    print('he will work in urban areas only.')\n",
    "else:\n",
    "    print('Error')\n"
   ]
  },
  {
   "cell_type": "markdown",
   "metadata": {},
   "source": [
    "6) Write a program to calculate the electricity bill (accept number of unit from user) according to the following criteria :\n",
    "     Unit                                                     Price  \n",
    "uptp 100 units                                             no charge\n",
    "Next 200 units                                              Rs 5 per unit\n",
    "After 200 units                                             Rs 10 per unit\n",
    "(For example if input unit is 350 than total bill amount is Rs.3500\n",
    "(For example if input unit is 97 than total bill amount is Rs.0\n",
    "(For example if input unit is 150 than total bill amount is Rs.750"
   ]
  },
  {
   "cell_type": "code",
   "execution_count": null,
   "metadata": {},
   "outputs": [],
   "source": [
    "units=int(input('Enter units'))\n",
    "print(f'UNITS                                     Price')\n",
    "if units<100:\n",
    "    print(f'{units}  units                          no charge     ')\n",
    "elif units>100 and units<=200:\n",
    "    print(f'{units}  units                           ',units*5)\n",
    "elif units>200:\n",
    "    print(f'{units}  units                         ',units*10)\n",
    "      "
   ]
  },
  {
   "cell_type": "markdown",
   "metadata": {},
   "source": [
    "13) Take input of age of 3 people by user and determine oldest and youngest among them."
   ]
  },
  {
   "cell_type": "code",
   "execution_count": 18,
   "metadata": {},
   "outputs": [],
   "source": [
    "person1=int(input('Enter pesron 1 age'))\n",
    "person2=int(input('Enter pesron 2 age'))\n",
    "person3=int(input('Enter pesron 3 age'))\n",
    "oldest=max(person1,person2,person3)\n",
    "youngest=min(person1,person2,person3)\n",
    "print(f' Pesrson with age {oldest} is oldest and Pesrson with age {youngest} is youngest')"
   ]
  }
 ],
 "metadata": {
  "kernelspec": {
   "display_name": "Python 3 (ipykernel)",
   "language": "python",
   "name": "python3"
  },
  "language_info": {
   "codemirror_mode": {
    "name": "ipython",
    "version": 3
   },
   "file_extension": ".py",
   "mimetype": "text/x-python",
   "name": "python",
   "nbconvert_exporter": "python",
   "pygments_lexer": "ipython3",
   "version": "3.12.5"
  }
 },
 "nbformat": 4,
 "nbformat_minor": 4
}
