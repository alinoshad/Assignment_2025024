{
 "cells": [
  {
   "cell_type": "markdown",
   "id": "734b679c-5ac0-4d59-80a0-405f696a141c",
   "metadata": {},
   "source": [
    "1. Write a program that accepts a list from user and print the alternate element of list."
   ]
  },
  {
   "cell_type": "code",
   "execution_count": null,
   "id": "b1537217-7ca7-4666-b70a-7c4fdbfa2951",
   "metadata": {},
   "outputs": [],
   "source": []
  },
  {
   "cell_type": "markdown",
   "id": "27e059ce-72db-4613-ac69-191733c7d627",
   "metadata": {},
   "source": [
    "2. Write a program that accepts a list from user. Your program should reverse the content of list and\r\n",
    "display it. Do not use reverse() method."
   ]
  },
  {
   "cell_type": "code",
   "execution_count": null,
   "id": "81cfdb69-7310-4044-9d54-2cc11cd0106a",
   "metadata": {},
   "outputs": [],
   "source": []
  },
  {
   "cell_type": "markdown",
   "id": "26a38cb9-b180-45ca-894f-3520fa5a350e",
   "metadata": {},
   "source": [
    "3. Find and display the largest number of a list without using built-in function max(). Your program\r\n",
    "should ask the user to input values in list from keyboard."
   ]
  },
  {
   "cell_type": "code",
   "execution_count": null,
   "id": "40b3253d-5309-4289-9362-a2636a03707e",
   "metadata": {},
   "outputs": [],
   "source": []
  },
  {
   "cell_type": "markdown",
   "id": "434e3ed4-8602-49b5-861c-eadd6ed2be06",
   "metadata": {},
   "source": [
    "4. Write a program that rotates the element of a list so that the element at the first index moves to the\r\n",
    "second index, the element in the second index moves to the third index, etc., and the element in the last\r\n",
    "index moves to the first index."
   ]
  },
  {
   "cell_type": "code",
   "execution_count": null,
   "id": "ec3aecff-c527-45e6-b90d-71ce48fd815b",
   "metadata": {},
   "outputs": [],
   "source": []
  },
  {
   "cell_type": "markdown",
   "id": "a7590d9a-d16b-4e9d-923b-1968beedc346",
   "metadata": {},
   "source": [
    "5. Write a program that input a string and ask user to delete a given word from a string."
   ]
  },
  {
   "cell_type": "code",
   "execution_count": null,
   "id": "8370aab0-5427-4ca8-9b67-5f0cb03f9447",
   "metadata": {},
   "outputs": [],
   "source": []
  },
  {
   "cell_type": "markdown",
   "id": "1c1e04bf-b25b-49c6-a8e0-f894403fc0e3",
   "metadata": {},
   "source": [
    "6. Write a program that reads a string from the user containing a date in the form mm/dd/yyyy. It\n",
    "should print the date in the form March 12, 2021."
   ]
  },
  {
   "cell_type": "code",
   "execution_count": null,
   "id": "e908a9b1-5e06-4dbf-8ba4-297d0edbee39",
   "metadata": {},
   "outputs": [],
   "source": []
  },
  {
   "cell_type": "markdown",
   "id": "8e3e28b8-fc22-4220-8b16-da750cb03b14",
   "metadata": {},
   "source": [
    "7. Write a program with a function that accepts a string from keyboard and create a new string after\n",
    "converting character of each word capitalized. For instance, if the sentence is \"stop and smell the roses.\"\n",
    "the output should be \"Stop And Smell The Roses\""
   ]
  },
  {
   "cell_type": "code",
   "execution_count": null,
   "id": "5722f464-3a2c-44ca-8998-248e9c12d883",
   "metadata": {},
   "outputs": [],
   "source": []
  },
  {
   "attachments": {
    "f0b3ec6f-9613-4cb9-9309-321de4b289bb.png": {
     "image/png": "[encoded data removed]"
    }
   },
   "cell_type": "markdown",
   "id": "a727228f-123f-43e5-8ab0-40a441c7692a",
   "metadata": {},
   "source": [
    "8. Find the sum of each row of matrix of size m x n. For example for the following matrix output will be\r\n",
    "like this \n",
    "\n",
    "\n",
    "\n",
    "![image.png](attachment:f0b3ec6f-9613-4cb9-9309-321de4b289bb.png)\n",
    "\n",
    "\n",
    "\n",
    ":\r\n",
    "Sum of row 1 = 32\r\n",
    "Sum of row 2 = 31\r\n",
    "Sum of row 3 = 63"
   ]
  },
  {
   "cell_type": "code",
   "execution_count": null,
   "id": "f70be2c0-e312-4d6c-b25b-41415bb33a64",
   "metadata": {},
   "outputs": [],
   "source": []
  }
 ],
 "metadata": {
  "kernelspec": {
   "display_name": "Python 3 (ipykernel)",
   "language": "python",
   "name": "python3"
  },
  "language_info": {
   "codemirror_mode": {
    "name": "ipython",
    "version": 3
   },
   "file_extension": ".py",
   "mimetype": "text/x-python",
   "name": "python",
   "nbconvert_exporter": "python",
   "pygments_lexer": "ipython3",
   "version": "3.12.5"
  }
 },
 "nbformat": 4,
 "nbformat_minor": 5
}
